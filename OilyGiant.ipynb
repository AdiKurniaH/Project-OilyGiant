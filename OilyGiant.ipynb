{
 "cells": [
  {
   "cell_type": "markdown",
   "metadata": {},
   "source": [
    "## Deskripsi Proyek"
   ]
  },
  {
   "cell_type": "markdown",
   "metadata": {},
   "source": [
    "Kamu bekerja di perusahaan tambang OilyGiant. Nah, tugasmu adalah mencari tempat terbaik untuk mengembangkan 200 titik sumur minyak baru.\n",
    "\n",
    "Untuk menyelesaikan tugas ini, kamu harus melakukan langkah-langkah berikut:\n",
    "- Baca file dengan parameter yang dikumpulkan dari sumur-sumur minyak di wilayah terpilih: kualitas minyak dan volume cadangannya\n",
    "- Buat sebuah model untuk memprediksi volume cadangan di sumur-sumur baru;\n",
    "- Pilih sumur minyak yang memiliki nilai estimasi tertinggi;\n",
    "- Pilih wilayah dengan total keuntungan tertinggi dari sumur minyak yang dipilih.\n",
    "\n",
    "Kamu punya data sampel minyak dari tiga wilayah. Parameter setiap sumur minyak di wilayah tersebut sudah diketahui. Buat sebuah model yang akan membantumu memilih wilayah dengan margin keuntungan tertinggi. Jangan lupa ya, gunakan teknik bootstrapping untuk menganalisis potensi keuntungan dan risiko."
   ]
  },
  {
   "cell_type": "markdown",
   "metadata": {},
   "source": [
    "## Tujuan"
   ]
  },
  {
   "cell_type": "markdown",
   "metadata": {},
   "source": [
    "Mencari tempat terbaik untuk mengembangkan 200 titik sumur minyak baru."
   ]
  },
  {
   "cell_type": "markdown",
   "metadata": {},
   "source": [
    "## Deskripsi Data"
   ]
  },
  {
   "cell_type": "markdown",
   "metadata": {},
   "source": [
    "Data eksplorasi geologi untuk ketiga wilayah disimpan dalam beberapa file:\n",
    "- Path dataset 1: geo_data_0.csv \n",
    "- Path dataset 2: geo_data_1.csv \n",
    "- Path dataset 3: geo_data_2.csv \n",
    "- id : ID unik sumur minyak\n",
    "- f0, f1, f2 : tiga fitur titik wilayah (makna spesifiknya sebenarnya tidak penting, tetapi fitur itu sendiri sangat penting)\n",
    "- product : volume cadangan di dalam sumur minyak (1 unit = 1.000 barel).\n",
    "\n",
    "**Kondisi:**\n",
    "\n",
    "Hanya regresi linear yang bisa digunakan untuk pelatihan model (sisanya tidak cukup mudah diprediksi).\n",
    "Anggaran untuk pengembangan 200 sumur minyak ini adalah 100 juta dolar.\n",
    "Satu barel minyak mentah menghasilkan pendapatan sebesar 4,5 dolar. Nah, pendapatan dari satu unit produk adalah $4.500 (volume cadangan ditulis dalam ribuan barel).\n",
    "Setelah kamu menganalisis risiko yang ada, pertahankan hanya wilayah yang memiliki risiko kerugian kurang dari 2,5%. Di antara semua yang sesuai dengan kriteria, kamu harus memilih wilayah dengan keuntungan rata-rata tertinggi.\n",
    "Oh ya, data ini hanya rekayasa belaka dan tidak mencakup rincian kontrak atau karakteristik sumur apa pun."
   ]
  },
  {
   "cell_type": "markdown",
   "metadata": {},
   "source": [
    "## Tahapan"
   ]
  },
  {
   "cell_type": "markdown",
   "metadata": {},
   "source": [
    "1. Unduh dan Cheking Data\n",
    "2. Eksplorasi Data\n",
    "3. Latih dan Uji Model\n",
    "4. Persiapan untuk Menghitung Laba\n",
    "5. Menghitung Laba Menggunakan Sebuah Fungsi\n",
    "6. Hitung risiko dan keuntungan untuk setiap wilayah\n",
    "7. Kesimpulan Umum\n"
   ]
  },
  {
   "cell_type": "markdown",
   "metadata": {},
   "source": [
    "## Tahap-1. Unduh dan Cheking Data"
   ]
  },
  {
   "cell_type": "markdown",
   "metadata": {},
   "source": [
    "Data tersimpan pada 3 file path berbeda, yaitu:\n",
    "1. geo_data_0.csv\n",
    "2. geo_data_1.csv\n",
    "3. geo_data_2.csv\n",
    "\n",
    "Mari buat 3 langkah berbeda untuk memuat data yang ada. Sebelum itu, mari import library yang diperlukan.\n"
   ]
  },
  {
   "cell_type": "code",
   "execution_count": 1,
   "metadata": {},
   "outputs": [],
   "source": [
    "# Import Library\n",
    "import pandas as pd\n",
    "import numpy as np\n",
    "\n",
    "import matplotlib.pyplot as plt\n",
    "import seaborn as sns"
   ]
  },
  {
   "cell_type": "code",
   "execution_count": 2,
   "metadata": {},
   "outputs": [],
   "source": [
    "# Import dataset dari path data\n",
    "data1 = pd.read_csv(r'/datasets/geo_data_0.csv')\n",
    "data2 = pd.read_csv(r'/datasets/geo_data_1.csv')\n",
    "data3 = pd.read_csv(r'/datasets/geo_data_2.csv') \n"
   ]
  },
  {
   "cell_type": "markdown",
   "metadata": {},
   "source": [
    "**Catatan**\n",
    "\n",
    "- data1 menyimpan data dari geo_data_0 \n",
    "- data2 menyimpan data dari geo_data_1\n",
    "- data3 menyimpan data dari geo_data_2"
   ]
  },
  {
   "cell_type": "markdown",
   "metadata": {},
   "source": [
    "### Data-1"
   ]
  },
  {
   "cell_type": "code",
   "execution_count": 3,
   "metadata": {},
   "outputs": [
    {
     "data": {
      "text/html": [
       "<div>\n",
       "<style scoped>\n",
       "    .dataframe tbody tr th:only-of-type {\n",
       "        vertical-align: middle;\n",
       "    }\n",
       "\n",
       "    .dataframe tbody tr th {\n",
       "        vertical-align: top;\n",
       "    }\n",
       "\n",
       "    .dataframe thead th {\n",
       "        text-align: right;\n",
       "    }\n",
       "</style>\n",
       "<table border=\"1\" class=\"dataframe\">\n",
       "  <thead>\n",
       "    <tr style=\"text-align: right;\">\n",
       "      <th></th>\n",
       "      <th>id</th>\n",
       "      <th>f0</th>\n",
       "      <th>f1</th>\n",
       "      <th>f2</th>\n",
       "      <th>product</th>\n",
       "    </tr>\n",
       "  </thead>\n",
       "  <tbody>\n",
       "    <tr>\n",
       "      <th>0</th>\n",
       "      <td>txEyH</td>\n",
       "      <td>0.705745</td>\n",
       "      <td>-0.497823</td>\n",
       "      <td>1.221170</td>\n",
       "      <td>105.280062</td>\n",
       "    </tr>\n",
       "    <tr>\n",
       "      <th>1</th>\n",
       "      <td>2acmU</td>\n",
       "      <td>1.334711</td>\n",
       "      <td>-0.340164</td>\n",
       "      <td>4.365080</td>\n",
       "      <td>73.037750</td>\n",
       "    </tr>\n",
       "    <tr>\n",
       "      <th>2</th>\n",
       "      <td>409Wp</td>\n",
       "      <td>1.022732</td>\n",
       "      <td>0.151990</td>\n",
       "      <td>1.419926</td>\n",
       "      <td>85.265647</td>\n",
       "    </tr>\n",
       "    <tr>\n",
       "      <th>3</th>\n",
       "      <td>iJLyR</td>\n",
       "      <td>-0.032172</td>\n",
       "      <td>0.139033</td>\n",
       "      <td>2.978566</td>\n",
       "      <td>168.620776</td>\n",
       "    </tr>\n",
       "    <tr>\n",
       "      <th>4</th>\n",
       "      <td>Xdl7t</td>\n",
       "      <td>1.988431</td>\n",
       "      <td>0.155413</td>\n",
       "      <td>4.751769</td>\n",
       "      <td>154.036647</td>\n",
       "    </tr>\n",
       "  </tbody>\n",
       "</table>\n",
       "</div>"
      ],
      "text/plain": [
       "      id        f0        f1        f2     product\n",
       "0  txEyH  0.705745 -0.497823  1.221170  105.280062\n",
       "1  2acmU  1.334711 -0.340164  4.365080   73.037750\n",
       "2  409Wp  1.022732  0.151990  1.419926   85.265647\n",
       "3  iJLyR -0.032172  0.139033  2.978566  168.620776\n",
       "4  Xdl7t  1.988431  0.155413  4.751769  154.036647"
      ]
     },
     "execution_count": 3,
     "metadata": {},
     "output_type": "execute_result"
    }
   ],
   "source": [
    "data1.head()"
   ]
  },
  {
   "cell_type": "code",
   "execution_count": 4,
   "metadata": {},
   "outputs": [
    {
     "name": "stdout",
     "output_type": "stream",
     "text": [
      "<class 'pandas.core.frame.DataFrame'>\n",
      "RangeIndex: 100000 entries, 0 to 99999\n",
      "Data columns (total 5 columns):\n",
      " #   Column   Non-Null Count   Dtype  \n",
      "---  ------   --------------   -----  \n",
      " 0   id       100000 non-null  object \n",
      " 1   f0       100000 non-null  float64\n",
      " 2   f1       100000 non-null  float64\n",
      " 3   f2       100000 non-null  float64\n",
      " 4   product  100000 non-null  float64\n",
      "dtypes: float64(4), object(1)\n",
      "memory usage: 3.8+ MB\n"
     ]
    }
   ],
   "source": [
    "data1.info()"
   ]
  },
  {
   "cell_type": "code",
   "execution_count": 5,
   "metadata": {},
   "outputs": [
    {
     "data": {
      "text/html": [
       "<div>\n",
       "<style scoped>\n",
       "    .dataframe tbody tr th:only-of-type {\n",
       "        vertical-align: middle;\n",
       "    }\n",
       "\n",
       "    .dataframe tbody tr th {\n",
       "        vertical-align: top;\n",
       "    }\n",
       "\n",
       "    .dataframe thead th {\n",
       "        text-align: right;\n",
       "    }\n",
       "</style>\n",
       "<table border=\"1\" class=\"dataframe\">\n",
       "  <thead>\n",
       "    <tr style=\"text-align: right;\">\n",
       "      <th></th>\n",
       "      <th>f0</th>\n",
       "      <th>f1</th>\n",
       "      <th>f2</th>\n",
       "      <th>product</th>\n",
       "    </tr>\n",
       "  </thead>\n",
       "  <tbody>\n",
       "    <tr>\n",
       "      <th>count</th>\n",
       "      <td>100000.000000</td>\n",
       "      <td>100000.000000</td>\n",
       "      <td>100000.000000</td>\n",
       "      <td>100000.000000</td>\n",
       "    </tr>\n",
       "    <tr>\n",
       "      <th>mean</th>\n",
       "      <td>0.500419</td>\n",
       "      <td>0.250143</td>\n",
       "      <td>2.502647</td>\n",
       "      <td>92.500000</td>\n",
       "    </tr>\n",
       "    <tr>\n",
       "      <th>std</th>\n",
       "      <td>0.871832</td>\n",
       "      <td>0.504433</td>\n",
       "      <td>3.248248</td>\n",
       "      <td>44.288691</td>\n",
       "    </tr>\n",
       "    <tr>\n",
       "      <th>min</th>\n",
       "      <td>-1.408605</td>\n",
       "      <td>-0.848218</td>\n",
       "      <td>-12.088328</td>\n",
       "      <td>0.000000</td>\n",
       "    </tr>\n",
       "    <tr>\n",
       "      <th>25%</th>\n",
       "      <td>-0.072580</td>\n",
       "      <td>-0.200881</td>\n",
       "      <td>0.287748</td>\n",
       "      <td>56.497507</td>\n",
       "    </tr>\n",
       "    <tr>\n",
       "      <th>50%</th>\n",
       "      <td>0.502360</td>\n",
       "      <td>0.250252</td>\n",
       "      <td>2.515969</td>\n",
       "      <td>91.849972</td>\n",
       "    </tr>\n",
       "    <tr>\n",
       "      <th>75%</th>\n",
       "      <td>1.073581</td>\n",
       "      <td>0.700646</td>\n",
       "      <td>4.715088</td>\n",
       "      <td>128.564089</td>\n",
       "    </tr>\n",
       "    <tr>\n",
       "      <th>max</th>\n",
       "      <td>2.362331</td>\n",
       "      <td>1.343769</td>\n",
       "      <td>16.003790</td>\n",
       "      <td>185.364347</td>\n",
       "    </tr>\n",
       "  </tbody>\n",
       "</table>\n",
       "</div>"
      ],
      "text/plain": [
       "                  f0             f1             f2        product\n",
       "count  100000.000000  100000.000000  100000.000000  100000.000000\n",
       "mean        0.500419       0.250143       2.502647      92.500000\n",
       "std         0.871832       0.504433       3.248248      44.288691\n",
       "min        -1.408605      -0.848218     -12.088328       0.000000\n",
       "25%        -0.072580      -0.200881       0.287748      56.497507\n",
       "50%         0.502360       0.250252       2.515969      91.849972\n",
       "75%         1.073581       0.700646       4.715088     128.564089\n",
       "max         2.362331       1.343769      16.003790     185.364347"
      ]
     },
     "execution_count": 5,
     "metadata": {},
     "output_type": "execute_result"
    }
   ],
   "source": [
    "data1.describe()"
   ]
  },
  {
   "cell_type": "code",
   "execution_count": 6,
   "metadata": {},
   "outputs": [
    {
     "data": {
      "text/plain": [
       "(100000, 5)"
      ]
     },
     "execution_count": 6,
     "metadata": {},
     "output_type": "execute_result"
    }
   ],
   "source": [
    "data1.shape"
   ]
  },
  {
   "cell_type": "code",
   "execution_count": 7,
   "metadata": {},
   "outputs": [
    {
     "data": {
      "text/plain": [
       "id         0\n",
       "f0         0\n",
       "f1         0\n",
       "f2         0\n",
       "product    0\n",
       "dtype: int64"
      ]
     },
     "execution_count": 7,
     "metadata": {},
     "output_type": "execute_result"
    }
   ],
   "source": [
    "data1.isna().sum()"
   ]
  },
  {
   "cell_type": "code",
   "execution_count": 8,
   "metadata": {},
   "outputs": [
    {
     "data": {
      "text/plain": [
       "0"
      ]
     },
     "execution_count": 8,
     "metadata": {},
     "output_type": "execute_result"
    }
   ],
   "source": [
    "data1.duplicated().sum()"
   ]
  },
  {
   "cell_type": "markdown",
   "metadata": {},
   "source": [
    "**Catatan:**\n",
    "- Data 1 berisi 100000 entries dan 5 kolom\n",
    "- Tidak terdapat missing value\n",
    "- Tidak terdapat duplikasi"
   ]
  },
  {
   "cell_type": "markdown",
   "metadata": {},
   "source": [
    "### Data-2"
   ]
  },
  {
   "cell_type": "code",
   "execution_count": 9,
   "metadata": {},
   "outputs": [
    {
     "data": {
      "text/html": [
       "<div>\n",
       "<style scoped>\n",
       "    .dataframe tbody tr th:only-of-type {\n",
       "        vertical-align: middle;\n",
       "    }\n",
       "\n",
       "    .dataframe tbody tr th {\n",
       "        vertical-align: top;\n",
       "    }\n",
       "\n",
       "    .dataframe thead th {\n",
       "        text-align: right;\n",
       "    }\n",
       "</style>\n",
       "<table border=\"1\" class=\"dataframe\">\n",
       "  <thead>\n",
       "    <tr style=\"text-align: right;\">\n",
       "      <th></th>\n",
       "      <th>id</th>\n",
       "      <th>f0</th>\n",
       "      <th>f1</th>\n",
       "      <th>f2</th>\n",
       "      <th>product</th>\n",
       "    </tr>\n",
       "  </thead>\n",
       "  <tbody>\n",
       "    <tr>\n",
       "      <th>0</th>\n",
       "      <td>kBEdx</td>\n",
       "      <td>-15.001348</td>\n",
       "      <td>-8.276000</td>\n",
       "      <td>-0.005876</td>\n",
       "      <td>3.179103</td>\n",
       "    </tr>\n",
       "    <tr>\n",
       "      <th>1</th>\n",
       "      <td>62mP7</td>\n",
       "      <td>14.272088</td>\n",
       "      <td>-3.475083</td>\n",
       "      <td>0.999183</td>\n",
       "      <td>26.953261</td>\n",
       "    </tr>\n",
       "    <tr>\n",
       "      <th>2</th>\n",
       "      <td>vyE1P</td>\n",
       "      <td>6.263187</td>\n",
       "      <td>-5.948386</td>\n",
       "      <td>5.001160</td>\n",
       "      <td>134.766305</td>\n",
       "    </tr>\n",
       "    <tr>\n",
       "      <th>3</th>\n",
       "      <td>KcrkZ</td>\n",
       "      <td>-13.081196</td>\n",
       "      <td>-11.506057</td>\n",
       "      <td>4.999415</td>\n",
       "      <td>137.945408</td>\n",
       "    </tr>\n",
       "    <tr>\n",
       "      <th>4</th>\n",
       "      <td>AHL4O</td>\n",
       "      <td>12.702195</td>\n",
       "      <td>-8.147433</td>\n",
       "      <td>5.004363</td>\n",
       "      <td>134.766305</td>\n",
       "    </tr>\n",
       "  </tbody>\n",
       "</table>\n",
       "</div>"
      ],
      "text/plain": [
       "      id         f0         f1        f2     product\n",
       "0  kBEdx -15.001348  -8.276000 -0.005876    3.179103\n",
       "1  62mP7  14.272088  -3.475083  0.999183   26.953261\n",
       "2  vyE1P   6.263187  -5.948386  5.001160  134.766305\n",
       "3  KcrkZ -13.081196 -11.506057  4.999415  137.945408\n",
       "4  AHL4O  12.702195  -8.147433  5.004363  134.766305"
      ]
     },
     "execution_count": 9,
     "metadata": {},
     "output_type": "execute_result"
    }
   ],
   "source": [
    "data2.head()"
   ]
  },
  {
   "cell_type": "code",
   "execution_count": 10,
   "metadata": {},
   "outputs": [
    {
     "name": "stdout",
     "output_type": "stream",
     "text": [
      "<class 'pandas.core.frame.DataFrame'>\n",
      "RangeIndex: 100000 entries, 0 to 99999\n",
      "Data columns (total 5 columns):\n",
      " #   Column   Non-Null Count   Dtype  \n",
      "---  ------   --------------   -----  \n",
      " 0   id       100000 non-null  object \n",
      " 1   f0       100000 non-null  float64\n",
      " 2   f1       100000 non-null  float64\n",
      " 3   f2       100000 non-null  float64\n",
      " 4   product  100000 non-null  float64\n",
      "dtypes: float64(4), object(1)\n",
      "memory usage: 3.8+ MB\n"
     ]
    }
   ],
   "source": [
    "data2.info()"
   ]
  },
  {
   "cell_type": "code",
   "execution_count": 11,
   "metadata": {},
   "outputs": [
    {
     "data": {
      "text/html": [
       "<div>\n",
       "<style scoped>\n",
       "    .dataframe tbody tr th:only-of-type {\n",
       "        vertical-align: middle;\n",
       "    }\n",
       "\n",
       "    .dataframe tbody tr th {\n",
       "        vertical-align: top;\n",
       "    }\n",
       "\n",
       "    .dataframe thead th {\n",
       "        text-align: right;\n",
       "    }\n",
       "</style>\n",
       "<table border=\"1\" class=\"dataframe\">\n",
       "  <thead>\n",
       "    <tr style=\"text-align: right;\">\n",
       "      <th></th>\n",
       "      <th>f0</th>\n",
       "      <th>f1</th>\n",
       "      <th>f2</th>\n",
       "      <th>product</th>\n",
       "    </tr>\n",
       "  </thead>\n",
       "  <tbody>\n",
       "    <tr>\n",
       "      <th>count</th>\n",
       "      <td>100000.000000</td>\n",
       "      <td>100000.000000</td>\n",
       "      <td>100000.000000</td>\n",
       "      <td>100000.000000</td>\n",
       "    </tr>\n",
       "    <tr>\n",
       "      <th>mean</th>\n",
       "      <td>1.141296</td>\n",
       "      <td>-4.796579</td>\n",
       "      <td>2.494541</td>\n",
       "      <td>68.825000</td>\n",
       "    </tr>\n",
       "    <tr>\n",
       "      <th>std</th>\n",
       "      <td>8.965932</td>\n",
       "      <td>5.119872</td>\n",
       "      <td>1.703572</td>\n",
       "      <td>45.944423</td>\n",
       "    </tr>\n",
       "    <tr>\n",
       "      <th>min</th>\n",
       "      <td>-31.609576</td>\n",
       "      <td>-26.358598</td>\n",
       "      <td>-0.018144</td>\n",
       "      <td>0.000000</td>\n",
       "    </tr>\n",
       "    <tr>\n",
       "      <th>25%</th>\n",
       "      <td>-6.298551</td>\n",
       "      <td>-8.267985</td>\n",
       "      <td>1.000021</td>\n",
       "      <td>26.953261</td>\n",
       "    </tr>\n",
       "    <tr>\n",
       "      <th>50%</th>\n",
       "      <td>1.153055</td>\n",
       "      <td>-4.813172</td>\n",
       "      <td>2.011479</td>\n",
       "      <td>57.085625</td>\n",
       "    </tr>\n",
       "    <tr>\n",
       "      <th>75%</th>\n",
       "      <td>8.621015</td>\n",
       "      <td>-1.332816</td>\n",
       "      <td>3.999904</td>\n",
       "      <td>107.813044</td>\n",
       "    </tr>\n",
       "    <tr>\n",
       "      <th>max</th>\n",
       "      <td>29.421755</td>\n",
       "      <td>18.734063</td>\n",
       "      <td>5.019721</td>\n",
       "      <td>137.945408</td>\n",
       "    </tr>\n",
       "  </tbody>\n",
       "</table>\n",
       "</div>"
      ],
      "text/plain": [
       "                  f0             f1             f2        product\n",
       "count  100000.000000  100000.000000  100000.000000  100000.000000\n",
       "mean        1.141296      -4.796579       2.494541      68.825000\n",
       "std         8.965932       5.119872       1.703572      45.944423\n",
       "min       -31.609576     -26.358598      -0.018144       0.000000\n",
       "25%        -6.298551      -8.267985       1.000021      26.953261\n",
       "50%         1.153055      -4.813172       2.011479      57.085625\n",
       "75%         8.621015      -1.332816       3.999904     107.813044\n",
       "max        29.421755      18.734063       5.019721     137.945408"
      ]
     },
     "execution_count": 11,
     "metadata": {},
     "output_type": "execute_result"
    }
   ],
   "source": [
    "data2.describe()"
   ]
  },
  {
   "cell_type": "code",
   "execution_count": 12,
   "metadata": {},
   "outputs": [
    {
     "data": {
      "text/plain": [
       "(100000, 5)"
      ]
     },
     "execution_count": 12,
     "metadata": {},
     "output_type": "execute_result"
    }
   ],
   "source": [
    "data2.shape"
   ]
  },
  {
   "cell_type": "code",
   "execution_count": 13,
   "metadata": {},
   "outputs": [
    {
     "data": {
      "text/plain": [
       "id         0\n",
       "f0         0\n",
       "f1         0\n",
       "f2         0\n",
       "product    0\n",
       "dtype: int64"
      ]
     },
     "execution_count": 13,
     "metadata": {},
     "output_type": "execute_result"
    }
   ],
   "source": [
    "data2.isna().sum()"
   ]
  },
  {
   "cell_type": "code",
   "execution_count": 14,
   "metadata": {},
   "outputs": [
    {
     "data": {
      "text/plain": [
       "0"
      ]
     },
     "execution_count": 14,
     "metadata": {},
     "output_type": "execute_result"
    }
   ],
   "source": [
    "data2.duplicated().sum()"
   ]
  },
  {
   "cell_type": "markdown",
   "metadata": {},
   "source": [
    "**Catatan:**\n",
    "- Data 2 berisi 100000 entries dan 5 kolom\n",
    "- Tidak terdapat missing value\n",
    "- Tidak terdapat duplikasi"
   ]
  },
  {
   "cell_type": "markdown",
   "metadata": {},
   "source": [
    "### Data-3"
   ]
  },
  {
   "cell_type": "code",
   "execution_count": 15,
   "metadata": {},
   "outputs": [
    {
     "data": {
      "text/html": [
       "<div>\n",
       "<style scoped>\n",
       "    .dataframe tbody tr th:only-of-type {\n",
       "        vertical-align: middle;\n",
       "    }\n",
       "\n",
       "    .dataframe tbody tr th {\n",
       "        vertical-align: top;\n",
       "    }\n",
       "\n",
       "    .dataframe thead th {\n",
       "        text-align: right;\n",
       "    }\n",
       "</style>\n",
       "<table border=\"1\" class=\"dataframe\">\n",
       "  <thead>\n",
       "    <tr style=\"text-align: right;\">\n",
       "      <th></th>\n",
       "      <th>id</th>\n",
       "      <th>f0</th>\n",
       "      <th>f1</th>\n",
       "      <th>f2</th>\n",
       "      <th>product</th>\n",
       "    </tr>\n",
       "  </thead>\n",
       "  <tbody>\n",
       "    <tr>\n",
       "      <th>0</th>\n",
       "      <td>fwXo0</td>\n",
       "      <td>-1.146987</td>\n",
       "      <td>0.963328</td>\n",
       "      <td>-0.828965</td>\n",
       "      <td>27.758673</td>\n",
       "    </tr>\n",
       "    <tr>\n",
       "      <th>1</th>\n",
       "      <td>WJtFt</td>\n",
       "      <td>0.262778</td>\n",
       "      <td>0.269839</td>\n",
       "      <td>-2.530187</td>\n",
       "      <td>56.069697</td>\n",
       "    </tr>\n",
       "    <tr>\n",
       "      <th>2</th>\n",
       "      <td>ovLUW</td>\n",
       "      <td>0.194587</td>\n",
       "      <td>0.289035</td>\n",
       "      <td>-5.586433</td>\n",
       "      <td>62.871910</td>\n",
       "    </tr>\n",
       "    <tr>\n",
       "      <th>3</th>\n",
       "      <td>q6cA6</td>\n",
       "      <td>2.236060</td>\n",
       "      <td>-0.553760</td>\n",
       "      <td>0.930038</td>\n",
       "      <td>114.572842</td>\n",
       "    </tr>\n",
       "    <tr>\n",
       "      <th>4</th>\n",
       "      <td>WPMUX</td>\n",
       "      <td>-0.515993</td>\n",
       "      <td>1.716266</td>\n",
       "      <td>5.899011</td>\n",
       "      <td>149.600746</td>\n",
       "    </tr>\n",
       "  </tbody>\n",
       "</table>\n",
       "</div>"
      ],
      "text/plain": [
       "      id        f0        f1        f2     product\n",
       "0  fwXo0 -1.146987  0.963328 -0.828965   27.758673\n",
       "1  WJtFt  0.262778  0.269839 -2.530187   56.069697\n",
       "2  ovLUW  0.194587  0.289035 -5.586433   62.871910\n",
       "3  q6cA6  2.236060 -0.553760  0.930038  114.572842\n",
       "4  WPMUX -0.515993  1.716266  5.899011  149.600746"
      ]
     },
     "execution_count": 15,
     "metadata": {},
     "output_type": "execute_result"
    }
   ],
   "source": [
    "data3.head()"
   ]
  },
  {
   "cell_type": "code",
   "execution_count": 16,
   "metadata": {},
   "outputs": [
    {
     "name": "stdout",
     "output_type": "stream",
     "text": [
      "<class 'pandas.core.frame.DataFrame'>\n",
      "RangeIndex: 100000 entries, 0 to 99999\n",
      "Data columns (total 5 columns):\n",
      " #   Column   Non-Null Count   Dtype  \n",
      "---  ------   --------------   -----  \n",
      " 0   id       100000 non-null  object \n",
      " 1   f0       100000 non-null  float64\n",
      " 2   f1       100000 non-null  float64\n",
      " 3   f2       100000 non-null  float64\n",
      " 4   product  100000 non-null  float64\n",
      "dtypes: float64(4), object(1)\n",
      "memory usage: 3.8+ MB\n"
     ]
    }
   ],
   "source": [
    "data3.info()"
   ]
  },
  {
   "cell_type": "code",
   "execution_count": 17,
   "metadata": {},
   "outputs": [
    {
     "data": {
      "text/html": [
       "<div>\n",
       "<style scoped>\n",
       "    .dataframe tbody tr th:only-of-type {\n",
       "        vertical-align: middle;\n",
       "    }\n",
       "\n",
       "    .dataframe tbody tr th {\n",
       "        vertical-align: top;\n",
       "    }\n",
       "\n",
       "    .dataframe thead th {\n",
       "        text-align: right;\n",
       "    }\n",
       "</style>\n",
       "<table border=\"1\" class=\"dataframe\">\n",
       "  <thead>\n",
       "    <tr style=\"text-align: right;\">\n",
       "      <th></th>\n",
       "      <th>f0</th>\n",
       "      <th>f1</th>\n",
       "      <th>f2</th>\n",
       "      <th>product</th>\n",
       "    </tr>\n",
       "  </thead>\n",
       "  <tbody>\n",
       "    <tr>\n",
       "      <th>count</th>\n",
       "      <td>100000.000000</td>\n",
       "      <td>100000.000000</td>\n",
       "      <td>100000.000000</td>\n",
       "      <td>100000.000000</td>\n",
       "    </tr>\n",
       "    <tr>\n",
       "      <th>mean</th>\n",
       "      <td>0.002023</td>\n",
       "      <td>-0.002081</td>\n",
       "      <td>2.495128</td>\n",
       "      <td>95.000000</td>\n",
       "    </tr>\n",
       "    <tr>\n",
       "      <th>std</th>\n",
       "      <td>1.732045</td>\n",
       "      <td>1.730417</td>\n",
       "      <td>3.473445</td>\n",
       "      <td>44.749921</td>\n",
       "    </tr>\n",
       "    <tr>\n",
       "      <th>min</th>\n",
       "      <td>-8.760004</td>\n",
       "      <td>-7.084020</td>\n",
       "      <td>-11.970335</td>\n",
       "      <td>0.000000</td>\n",
       "    </tr>\n",
       "    <tr>\n",
       "      <th>25%</th>\n",
       "      <td>-1.162288</td>\n",
       "      <td>-1.174820</td>\n",
       "      <td>0.130359</td>\n",
       "      <td>59.450441</td>\n",
       "    </tr>\n",
       "    <tr>\n",
       "      <th>50%</th>\n",
       "      <td>0.009424</td>\n",
       "      <td>-0.009482</td>\n",
       "      <td>2.484236</td>\n",
       "      <td>94.925613</td>\n",
       "    </tr>\n",
       "    <tr>\n",
       "      <th>75%</th>\n",
       "      <td>1.158535</td>\n",
       "      <td>1.163678</td>\n",
       "      <td>4.858794</td>\n",
       "      <td>130.595027</td>\n",
       "    </tr>\n",
       "    <tr>\n",
       "      <th>max</th>\n",
       "      <td>7.238262</td>\n",
       "      <td>7.844801</td>\n",
       "      <td>16.739402</td>\n",
       "      <td>190.029838</td>\n",
       "    </tr>\n",
       "  </tbody>\n",
       "</table>\n",
       "</div>"
      ],
      "text/plain": [
       "                  f0             f1             f2        product\n",
       "count  100000.000000  100000.000000  100000.000000  100000.000000\n",
       "mean        0.002023      -0.002081       2.495128      95.000000\n",
       "std         1.732045       1.730417       3.473445      44.749921\n",
       "min        -8.760004      -7.084020     -11.970335       0.000000\n",
       "25%        -1.162288      -1.174820       0.130359      59.450441\n",
       "50%         0.009424      -0.009482       2.484236      94.925613\n",
       "75%         1.158535       1.163678       4.858794     130.595027\n",
       "max         7.238262       7.844801      16.739402     190.029838"
      ]
     },
     "execution_count": 17,
     "metadata": {},
     "output_type": "execute_result"
    }
   ],
   "source": [
    "data3.describe()"
   ]
  },
  {
   "cell_type": "code",
   "execution_count": 18,
   "metadata": {},
   "outputs": [
    {
     "data": {
      "text/plain": [
       "(100000, 5)"
      ]
     },
     "execution_count": 18,
     "metadata": {},
     "output_type": "execute_result"
    }
   ],
   "source": [
    "data3.shape"
   ]
  },
  {
   "cell_type": "code",
   "execution_count": 19,
   "metadata": {},
   "outputs": [
    {
     "data": {
      "text/plain": [
       "id         0\n",
       "f0         0\n",
       "f1         0\n",
       "f2         0\n",
       "product    0\n",
       "dtype: int64"
      ]
     },
     "execution_count": 19,
     "metadata": {},
     "output_type": "execute_result"
    }
   ],
   "source": [
    "data3.isna().sum()"
   ]
  },
  {
   "cell_type": "code",
   "execution_count": 20,
   "metadata": {},
   "outputs": [
    {
     "data": {
      "text/plain": [
       "0"
      ]
     },
     "execution_count": 20,
     "metadata": {},
     "output_type": "execute_result"
    }
   ],
   "source": [
    "data3.duplicated().sum()"
   ]
  },
  {
   "cell_type": "markdown",
   "metadata": {},
   "source": [
    "**Catatan:**\n",
    "- Data 3 berisi 100000 entries dan 5 kolom\n",
    "- Tidak terdapat missing value\n",
    "- Tidak terdapat duplikasi"
   ]
  },
  {
   "cell_type": "markdown",
   "metadata": {},
   "source": [
    "## Tahap-2. Ekplorasi Data"
   ]
  },
  {
   "cell_type": "markdown",
   "metadata": {},
   "source": [
    "**Distribusi kolom target pada ketiga dataset yang ada.**"
   ]
  },
  {
   "cell_type": "code",
   "execution_count": 21,
   "metadata": {},
   "outputs": [
    {
     "data": {
      "image/png": "[encoded data removed]",
      "text/plain": [
       "<Figure size 432x288 with 1 Axes>"
      ]
     },
     "metadata": {
      "needs_background": "light"
     },
     "output_type": "display_data"
    }
   ],
   "source": [
    "# Distribusi kolom target untuk setiap wilayah (data-1)\n",
    "sns.histplot(data1['product'], bins=20, kde=True )\n",
    "plt.title('Distribution of Product for data-1')\n",
    "plt.show()"
   ]
  },
  {
   "cell_type": "code",
   "execution_count": 22,
   "metadata": {},
   "outputs": [
    {
     "data": {
      "image/png": "[encoded data removed]",
      "text/plain": [
       "<Figure size 432x288 with 1 Axes>"
      ]
     },
     "metadata": {
      "needs_background": "light"
     },
     "output_type": "display_data"
    }
   ],
   "source": [
    "# Distribusi kolom target untuk setiap wilayah (data-2)\n",
    "sns.histplot(data2['product'], bins=20, kde=True )\n",
    "plt.title('Distribution of Product for data-2')\n",
    "plt.show()"
   ]
  },
  {
   "cell_type": "code",
   "execution_count": 23,
   "metadata": {},
   "outputs": [
    {
     "data": {
      "image/png": "[encoded data removed]",
      "text/plain": [
       "<Figure size 432x288 with 1 Axes>"
      ]
     },
     "metadata": {
      "needs_background": "light"
     },
     "output_type": "display_data"
    }
   ],
   "source": [
    "# Distribusi kolom target untuk setiap wilayah (data-3)\n",
    "sns.histplot(data3['product'], bins=20, kde=True )\n",
    "plt.title('Distribution of Product for data-3')\n",
    "plt.show()"
   ]
  },
  {
   "cell_type": "markdown",
   "metadata": {},
   "source": [
    "**Catatan**\n",
    "Distribusi dari ketiga dataset yang ada "
   ]
  },
  {
   "cell_type": "markdown",
   "metadata": {},
   "source": [
    "**Korelasi antara kolom fitur dan kolom target**"
   ]
  },
  {
   "cell_type": "code",
   "execution_count": 24,
   "metadata": {},
   "outputs": [
    {
     "name": "stdout",
     "output_type": "stream",
     "text": [
      "Kolerasi antar fitur dan target pada data-1\n",
      "f0         0.143536\n",
      "f1        -0.192356\n",
      "f2         0.483663\n",
      "product    1.000000\n",
      "Name: product, dtype: float64\n"
     ]
    }
   ],
   "source": [
    "print('Kolerasi antar fitur dan target pada data-1')\n",
    "print(data1.corr()['product'])"
   ]
  },
  {
   "cell_type": "code",
   "execution_count": 25,
   "metadata": {},
   "outputs": [
    {
     "name": "stdout",
     "output_type": "stream",
     "text": [
      "Kolerasi antar fitur dan target pada data-2\n",
      "f0        -0.030491\n",
      "f1        -0.010155\n",
      "f2         0.999397\n",
      "product    1.000000\n",
      "Name: product, dtype: float64\n"
     ]
    }
   ],
   "source": [
    "print('Kolerasi antar fitur dan target pada data-2')\n",
    "print(data2.corr()['product'])"
   ]
  },
  {
   "cell_type": "code",
   "execution_count": 26,
   "metadata": {},
   "outputs": [
    {
     "name": "stdout",
     "output_type": "stream",
     "text": [
      "Kolerasi antar fitur dan target pada data-3\n",
      "f0        -0.001987\n",
      "f1        -0.001012\n",
      "f2         0.445871\n",
      "product    1.000000\n",
      "Name: product, dtype: float64\n"
     ]
    }
   ],
   "source": [
    "print('Kolerasi antar fitur dan target pada data-3')\n",
    "print(data3.corr()['product'])"
   ]
  },
  {
   "cell_type": "markdown",
   "metadata": {},
   "source": [
    "**Catatan**\n",
    "\n",
    "Korelasi antar fitur dan target pada ketiga dataset yang ada, korelasi terbesar berada di wilayah f2. Pada data-2 terlihat sangat besar nilai korelasi di f2 terhadap kolom target."
   ]
  },
  {
   "cell_type": "markdown",
   "metadata": {},
   "source": [
    "## Tahap-3. Latih dan Uji Model "
   ]
  },
  {
   "cell_type": "markdown",
   "metadata": {},
   "source": [
    "Tahapan untuk latih dan uji model.\n",
    "\n",
    "1. Pisahkan data menjadi training set dan validation set dengan rasio 75:25.\n",
    "2. Latih model dan buat prediksi untuk validation set.\n",
    "2. Simpan prediksi dan jawaban yang benar untuk validation set.\n",
    "2. Tampilkan prediksi volume rata-rata pemesanan dan RMSE dari model.\n",
    "2. Analisis hasilnya.\n",
    "2. Lakukan dan jalankan langkah 2.1-2.5 untuk file 'geo_data_1.csv' dan 'geo_data_2.csv'.\n",
    "\n",
    "**catatan:** Hanya regresi linear yang bisa digunakan untuk pelatihan model (sisanya tidak cukup mudah diprediksi), maka dari itu model yang akan digunakan adalah model Linear Regression."
   ]
  },
  {
   "cell_type": "code",
   "execution_count": 27,
   "metadata": {},
   "outputs": [],
   "source": [
    "# Import Library\n",
    "from sklearn.linear_model import LinearRegression\n",
    "from sklearn.model_selection import train_test_split\n",
    "from sklearn.metrics import mean_squared_error"
   ]
  },
  {
   "cell_type": "markdown",
   "metadata": {},
   "source": [
    "**Pisahkan data menjadi training set dan validation set dengan rasio 75:25.**"
   ]
  },
  {
   "cell_type": "code",
   "execution_count": 28,
   "metadata": {},
   "outputs": [],
   "source": [
    "# Data-1\n",
    "\n",
    "features_1 = data1.drop(['id', 'product'], axis=1) # Hanya fitur yng digunakan, kolom id dan product didrop\n",
    "target_1 = data1['product'] # Hanya kolom target\n",
    "\n",
    "# training set dan validation set dengan rasio 75:25\n",
    "train_features1, valid_features1, train_target1, valid_target1 = train_test_split(\n",
    "    features_1, target_1, test_size=0.25, random_state=123)"
   ]
  },
  {
   "cell_type": "code",
   "execution_count": 29,
   "metadata": {},
   "outputs": [],
   "source": [
    "# Data-2\n",
    "\n",
    "features_2 = data2.drop(['id', 'product'], axis=1) # Hanya fitur yng digunakan, kolom id dan product didrop\n",
    "target_2 = data2['product'] # Hanya kolom target\n",
    "\n",
    "# training set dan validation set dengan rasio 75:25\n",
    "train_features2, valid_features2, train_target2, valid_target2 = train_test_split(\n",
    "    features_2, target_2, test_size=0.25, random_state=123)"
   ]
  },
  {
   "cell_type": "code",
   "execution_count": 30,
   "metadata": {},
   "outputs": [],
   "source": [
    "# Data-3\n",
    "\n",
    "features_3 = data3.drop(['id', 'product'], axis=1) # Hanya fitur yng digunakan, kolom id dan product didrop\n",
    "target_3 = data3['product'] # Hanya kolom target\n",
    "\n",
    "# training set dan validation set dengan rasio 75:25\n",
    "train_features3, valid_features3, train_target3, valid_target3 = train_test_split(\n",
    "    features_3, target_3, test_size=0.25, random_state=123)"
   ]
  },
  {
   "cell_type": "code",
   "execution_count": 31,
   "metadata": {},
   "outputs": [
    {
     "name": "stdout",
     "output_type": "stream",
     "text": [
      "Training set dan validation set data1\n",
      "(75000, 3) (75000,)\n",
      "(25000, 3) (25000,)\n",
      "___________________________________\n",
      "Training set dan validation set data2\n",
      "(75000, 3) (75000,)\n",
      "(25000, 3) (25000,)\n",
      "___________________________________\n",
      "Training set dan validation set data3\n",
      "(75000, 3) (75000,)\n",
      "(25000, 3) (25000,)\n"
     ]
    }
   ],
   "source": [
    "print('Training set dan validation set data1')\n",
    "print(train_features1.shape, train_target1.shape)\n",
    "print(valid_features1.shape, valid_target1.shape)\n",
    "print('___________________________________')\n",
    "print('Training set dan validation set data2')\n",
    "print(train_features2.shape, train_target2.shape)\n",
    "print(valid_features2.shape, valid_target2.shape)\n",
    "print('___________________________________')\n",
    "print('Training set dan validation set data3')\n",
    "print(train_features3.shape, train_target3.shape)\n",
    "print(valid_features3.shape, valid_target3.shape)\n"
   ]
  },
  {
   "cell_type": "markdown",
   "metadata": {},
   "source": [
    "**Catatan:**\n",
    "Training set dan Validation set sudah dibuat pada ketiga dataset yang ada dengan rasio 75:25."
   ]
  },
  {
   "cell_type": "markdown",
   "metadata": {},
   "source": [
    "**Latih model dan buat prediksi untuk validation set.**"
   ]
  },
  {
   "cell_type": "markdown",
   "metadata": {},
   "source": [
    "**Data-1**"
   ]
  },
  {
   "cell_type": "code",
   "execution_count": 32,
   "metadata": {},
   "outputs": [
    {
     "data": {
      "text/plain": [
       "LinearRegression()"
      ]
     },
     "execution_count": 32,
     "metadata": {},
     "output_type": "execute_result"
    }
   ],
   "source": [
    "model_1 = LinearRegression()\n",
    "model_1.fit(train_features1, train_target1)"
   ]
  },
  {
   "cell_type": "code",
   "execution_count": 33,
   "metadata": {},
   "outputs": [
    {
     "data": {
      "text/plain": [
       "array([123.28425605,  75.83824045,  55.52675972, ..., 139.04291088,\n",
       "        96.86792677,  54.71433128])"
      ]
     },
     "execution_count": 33,
     "metadata": {},
     "output_type": "execute_result"
    }
   ],
   "source": [
    "predictions_1 = model_1.predict(valid_features1)\n",
    "predictions_1"
   ]
  },
  {
   "cell_type": "markdown",
   "metadata": {},
   "source": [
    "**Data-2**"
   ]
  },
  {
   "cell_type": "code",
   "execution_count": 34,
   "metadata": {},
   "outputs": [
    {
     "data": {
      "text/plain": [
       "LinearRegression()"
      ]
     },
     "execution_count": 34,
     "metadata": {},
     "output_type": "execute_result"
    }
   ],
   "source": [
    "model_2 = LinearRegression()\n",
    "model_2.fit(train_features2, train_target2)"
   ]
  },
  {
   "cell_type": "code",
   "execution_count": 35,
   "metadata": {},
   "outputs": [
    {
     "data": {
      "text/plain": [
       "array([ 56.05631374,  81.58981051,  54.46192558, ...,   3.27898206,\n",
       "        53.7058392 , 135.02187925])"
      ]
     },
     "execution_count": 35,
     "metadata": {},
     "output_type": "execute_result"
    }
   ],
   "source": [
    "predictions_2 = model_2.predict(valid_features2)\n",
    "predictions_2"
   ]
  },
  {
   "cell_type": "markdown",
   "metadata": {},
   "source": [
    "**Data-3**"
   ]
  },
  {
   "cell_type": "code",
   "execution_count": 36,
   "metadata": {},
   "outputs": [
    {
     "data": {
      "text/plain": [
       "LinearRegression()"
      ]
     },
     "execution_count": 36,
     "metadata": {},
     "output_type": "execute_result"
    }
   ],
   "source": [
    "model_3 = LinearRegression()\n",
    "model_3.fit(train_features3, train_target3)"
   ]
  },
  {
   "cell_type": "code",
   "execution_count": 37,
   "metadata": {},
   "outputs": [
    {
     "data": {
      "text/plain": [
       "array([ 94.07516072, 122.60441398,  80.0550389 , ...,  67.80367903,\n",
       "        84.15684411, 127.48420213])"
      ]
     },
     "execution_count": 37,
     "metadata": {},
     "output_type": "execute_result"
    }
   ],
   "source": [
    "predictions_3 = model_3.predict(valid_features3)\n",
    "predictions_3"
   ]
  },
  {
   "cell_type": "markdown",
   "metadata": {},
   "source": [
    "**Catatan:** Model Linear Regression sudah dilatih dan prediksi training set sudah didapat dari ketiga dataset yang ada "
   ]
  },
  {
   "cell_type": "markdown",
   "metadata": {},
   "source": [
    "**Simpan prediksi dan jawaban yang benar untuk validation set**"
   ]
  },
  {
   "cell_type": "markdown",
   "metadata": {},
   "source": [
    "Untuk mempermudah penyimpanan, mari buat sebuah dataframe yang menyimpan prediksi dan jawaban dari validation set."
   ]
  },
  {
   "cell_type": "markdown",
   "metadata": {},
   "source": [
    "**Data-1**"
   ]
  },
  {
   "cell_type": "code",
   "execution_count": 38,
   "metadata": {},
   "outputs": [
    {
     "data": {
      "text/html": [
       "<div>\n",
       "<style scoped>\n",
       "    .dataframe tbody tr th:only-of-type {\n",
       "        vertical-align: middle;\n",
       "    }\n",
       "\n",
       "    .dataframe tbody tr th {\n",
       "        vertical-align: top;\n",
       "    }\n",
       "\n",
       "    .dataframe thead th {\n",
       "        text-align: right;\n",
       "    }\n",
       "</style>\n",
       "<table border=\"1\" class=\"dataframe\">\n",
       "  <thead>\n",
       "    <tr style=\"text-align: right;\">\n",
       "      <th></th>\n",
       "      <th>valid_target</th>\n",
       "      <th>predictions</th>\n",
       "    </tr>\n",
       "  </thead>\n",
       "  <tbody>\n",
       "    <tr>\n",
       "      <th>42083</th>\n",
       "      <td>145.825972</td>\n",
       "      <td>123.284256</td>\n",
       "    </tr>\n",
       "    <tr>\n",
       "      <th>71825</th>\n",
       "      <td>134.020212</td>\n",
       "      <td>75.838240</td>\n",
       "    </tr>\n",
       "    <tr>\n",
       "      <th>99535</th>\n",
       "      <td>88.905826</td>\n",
       "      <td>55.526760</td>\n",
       "    </tr>\n",
       "    <tr>\n",
       "      <th>47879</th>\n",
       "      <td>19.508226</td>\n",
       "      <td>86.673045</td>\n",
       "    </tr>\n",
       "    <tr>\n",
       "      <th>36734</th>\n",
       "      <td>108.713468</td>\n",
       "      <td>109.909327</td>\n",
       "    </tr>\n",
       "  </tbody>\n",
       "</table>\n",
       "</div>"
      ],
      "text/plain": [
       "       valid_target  predictions\n",
       "42083    145.825972   123.284256\n",
       "71825    134.020212    75.838240\n",
       "99535     88.905826    55.526760\n",
       "47879     19.508226    86.673045\n",
       "36734    108.713468   109.909327"
      ]
     },
     "execution_count": 38,
     "metadata": {},
     "output_type": "execute_result"
    }
   ],
   "source": [
    "results_data1 = pd.DataFrame({'valid_target': valid_target1, 'predictions': predictions_1})\n",
    "results_data1.head()"
   ]
  },
  {
   "cell_type": "markdown",
   "metadata": {},
   "source": [
    "**Data-2**"
   ]
  },
  {
   "cell_type": "code",
   "execution_count": 39,
   "metadata": {},
   "outputs": [
    {
     "data": {
      "text/html": [
       "<div>\n",
       "<style scoped>\n",
       "    .dataframe tbody tr th:only-of-type {\n",
       "        vertical-align: middle;\n",
       "    }\n",
       "\n",
       "    .dataframe tbody tr th {\n",
       "        vertical-align: top;\n",
       "    }\n",
       "\n",
       "    .dataframe thead th {\n",
       "        text-align: right;\n",
       "    }\n",
       "</style>\n",
       "<table border=\"1\" class=\"dataframe\">\n",
       "  <thead>\n",
       "    <tr style=\"text-align: right;\">\n",
       "      <th></th>\n",
       "      <th>valid_target</th>\n",
       "      <th>predictions</th>\n",
       "    </tr>\n",
       "  </thead>\n",
       "  <tbody>\n",
       "    <tr>\n",
       "      <th>42083</th>\n",
       "      <td>57.085625</td>\n",
       "      <td>56.056314</td>\n",
       "    </tr>\n",
       "    <tr>\n",
       "      <th>71825</th>\n",
       "      <td>80.859783</td>\n",
       "      <td>81.589811</td>\n",
       "    </tr>\n",
       "    <tr>\n",
       "      <th>99535</th>\n",
       "      <td>53.906522</td>\n",
       "      <td>54.461926</td>\n",
       "    </tr>\n",
       "    <tr>\n",
       "      <th>47879</th>\n",
       "      <td>107.813044</td>\n",
       "      <td>108.660979</td>\n",
       "    </tr>\n",
       "    <tr>\n",
       "      <th>36734</th>\n",
       "      <td>53.906522</td>\n",
       "      <td>54.479416</td>\n",
       "    </tr>\n",
       "  </tbody>\n",
       "</table>\n",
       "</div>"
      ],
      "text/plain": [
       "       valid_target  predictions\n",
       "42083     57.085625    56.056314\n",
       "71825     80.859783    81.589811\n",
       "99535     53.906522    54.461926\n",
       "47879    107.813044   108.660979\n",
       "36734     53.906522    54.479416"
      ]
     },
     "execution_count": 39,
     "metadata": {},
     "output_type": "execute_result"
    }
   ],
   "source": [
    "results_data2 = pd.DataFrame({'valid_target': valid_target2, 'predictions': predictions_2})\n",
    "results_data2.head()"
   ]
  },
  {
   "cell_type": "markdown",
   "metadata": {},
   "source": [
    "**Data-3**"
   ]
  },
  {
   "cell_type": "code",
   "execution_count": 40,
   "metadata": {},
   "outputs": [
    {
     "data": {
      "text/html": [
       "<div>\n",
       "<style scoped>\n",
       "    .dataframe tbody tr th:only-of-type {\n",
       "        vertical-align: middle;\n",
       "    }\n",
       "\n",
       "    .dataframe tbody tr th {\n",
       "        vertical-align: top;\n",
       "    }\n",
       "\n",
       "    .dataframe thead th {\n",
       "        text-align: right;\n",
       "    }\n",
       "</style>\n",
       "<table border=\"1\" class=\"dataframe\">\n",
       "  <thead>\n",
       "    <tr style=\"text-align: right;\">\n",
       "      <th></th>\n",
       "      <th>valid_target</th>\n",
       "      <th>predictions</th>\n",
       "    </tr>\n",
       "  </thead>\n",
       "  <tbody>\n",
       "    <tr>\n",
       "      <th>42083</th>\n",
       "      <td>147.451978</td>\n",
       "      <td>94.075161</td>\n",
       "    </tr>\n",
       "    <tr>\n",
       "      <th>71825</th>\n",
       "      <td>128.711794</td>\n",
       "      <td>122.604414</td>\n",
       "    </tr>\n",
       "    <tr>\n",
       "      <th>99535</th>\n",
       "      <td>106.628185</td>\n",
       "      <td>80.055039</td>\n",
       "    </tr>\n",
       "    <tr>\n",
       "      <th>47879</th>\n",
       "      <td>128.787131</td>\n",
       "      <td>100.175906</td>\n",
       "    </tr>\n",
       "    <tr>\n",
       "      <th>36734</th>\n",
       "      <td>159.328488</td>\n",
       "      <td>89.804044</td>\n",
       "    </tr>\n",
       "  </tbody>\n",
       "</table>\n",
       "</div>"
      ],
      "text/plain": [
       "       valid_target  predictions\n",
       "42083    147.451978    94.075161\n",
       "71825    128.711794   122.604414\n",
       "99535    106.628185    80.055039\n",
       "47879    128.787131   100.175906\n",
       "36734    159.328488    89.804044"
      ]
     },
     "execution_count": 40,
     "metadata": {},
     "output_type": "execute_result"
    }
   ],
   "source": [
    "results_data3 = pd.DataFrame({'valid_target': valid_target3, 'predictions': predictions_3})\n",
    "results_data3.head()"
   ]
  },
  {
   "cell_type": "markdown",
   "metadata": {},
   "source": [
    "**Tampilkan prediksi volume rata-rata pemesanan dan RMSE dari model.**"
   ]
  },
  {
   "cell_type": "markdown",
   "metadata": {},
   "source": [
    "**Data-1**"
   ]
  },
  {
   "cell_type": "code",
   "execution_count": 41,
   "metadata": {},
   "outputs": [
    {
     "name": "stdout",
     "output_type": "stream",
     "text": [
      "Data-1\n",
      "Target Volume Rata-rata: 92.85062391123445\n",
      "Prediksi Volume Rata-Rata = 92.54936189116306\n",
      "RMSE = 37.64786282376176\n"
     ]
    }
   ],
   "source": [
    "print('Data-1')\n",
    "print('Target Volume Rata-rata:', results_data1['valid_target'].mean())\n",
    "print('Prediksi Volume Rata-Rata =', results_data1['predictions'].mean())\n",
    "print('RMSE =', mean_squared_error(results_data1['valid_target'], results_data1['predictions'])** 0.5)"
   ]
  },
  {
   "cell_type": "markdown",
   "metadata": {},
   "source": [
    "**Data-2**"
   ]
  },
  {
   "cell_type": "code",
   "execution_count": 42,
   "metadata": {},
   "outputs": [
    {
     "name": "stdout",
     "output_type": "stream",
     "text": [
      "Data-2\n",
      "Target Volume Rata-rata: 69.27371236077902\n",
      "Prediksi Volume Rata-Rata = 69.28001860653976\n",
      "RMSE = 0.8954139804944313\n"
     ]
    }
   ],
   "source": [
    "print('Data-2')\n",
    "print('Target Volume Rata-rata:', results_data2['valid_target'].mean())\n",
    "print('Prediksi Volume Rata-Rata =', results_data2['predictions'].mean())\n",
    "print('RMSE =', mean_squared_error(results_data2['valid_target'], results_data2['predictions'])** 0.5)"
   ]
  },
  {
   "cell_type": "code",
   "execution_count": 43,
   "metadata": {},
   "outputs": [
    {
     "name": "stdout",
     "output_type": "stream",
     "text": [
      "Data-3\n",
      "Target Volume Rata-rata: 94.87348818660213\n",
      "Prediksi Volume Rata-Rata = 95.09859933591373\n",
      "RMSE = 40.12803006598514\n"
     ]
    }
   ],
   "source": [
    "print('Data-3')\n",
    "print('Target Volume Rata-rata:', results_data3['valid_target'].mean())\n",
    "print('Prediksi Volume Rata-Rata =', results_data3['predictions'].mean())\n",
    "print('RMSE =', mean_squared_error(results_data3['valid_target'], results_data3['predictions'])** 0.5)"
   ]
  },
  {
   "cell_type": "markdown",
   "metadata": {},
   "source": [
    "**Analisis hasilnya.**"
   ]
  },
  {
   "cell_type": "markdown",
   "metadata": {},
   "source": [
    "Dari hasil pengujian model, didapat:\n",
    "\n",
    "1. **Data-1**\n",
    "    - Prediksi Volume Rata-Rata = 92.54936189116306\n",
    "    - RMSE = 37.64786282376176\n",
    "\n",
    "2. **Data-2**\n",
    "    - Prediksi Volume Rata-Rata = 69.28001860653976\n",
    "    - RMSE = 0.8954139804944313\n",
    "\n",
    "3. **Data-3**\n",
    "    - Prediksi Volume Rata-Rata = 95.09859933591373\n",
    "    - RMSE = 40.12803006598514\n",
    "    \n",
    "**Kesimpulan Sementara**\n",
    "\n",
    "Data-1 memiliki kinerja model yang paling baik dengan nilai RMSE yang cukup rendah yaitu 0.895. Dapat dikatakan bahwa prediksi volume pemesanan cenderung lebih akurat"
   ]
  },
  {
   "cell_type": "markdown",
   "metadata": {},
   "source": [
    "## Tahap-4. Persiapan Menghitung Laba"
   ]
  },
  {
   "cell_type": "markdown",
   "metadata": {},
   "source": [
    "Simpan semua nilai yang dibutuhkan untuk perhitungan laba pada variabel terpisah."
   ]
  },
  {
   "cell_type": "code",
   "execution_count": 44,
   "metadata": {},
   "outputs": [
    {
     "name": "stdout",
     "output_type": "stream",
     "text": [
      "Volume Minimum Pemesanan: 22.22222222222222\n"
     ]
    }
   ],
   "source": [
    "# Investasi untuk 200 sumur minyak\n",
    "inves = 100_000_000\n",
    "\n",
    "# Pendapatan dari satu barel minyak mentah\n",
    "per_barel = 4_500\n",
    "\n",
    "# Volume pemesanan minimum untuk menghindari kerugian\n",
    "vol_minim_pemesanan = inves / (per_barel * 1_000)\n",
    "print('Volume Minimum Pemesanan:', vol_minim_pemesanan)"
   ]
  },
  {
   "cell_type": "markdown",
   "metadata": {},
   "source": [
    "**Bandingkan jumlah minimum yang didapat dengan jumlah rata-rata pemesanan di setiap wilayah**"
   ]
  },
  {
   "cell_type": "code",
   "execution_count": 45,
   "metadata": {},
   "outputs": [],
   "source": [
    "average_data1 = results_data1['predictions'].mean()\n",
    "average_data2 = results_data2['predictions'].mean()\n",
    "average_data3 = results_data3['predictions'].mean()\n"
   ]
  },
  {
   "cell_type": "code",
   "execution_count": 46,
   "metadata": {},
   "outputs": [
    {
     "name": "stdout",
     "output_type": "stream",
     "text": [
      "Volume Pemesanan Minimum yang Diperlukan 22.22222222222222\n",
      "\n",
      "Volume Rata-Rata Pemesanan data-1: 92.54936189116306\n",
      "Volume Rata-Rata Pemesanan data-2: 69.28001860653976\n",
      "Volume Rata-Rata Pemesanan data-3: 95.09859933591373\n"
     ]
    }
   ],
   "source": [
    "print('Volume Pemesanan Minimum yang Diperlukan', vol_minim_pemesanan)\n",
    "print('\\nVolume Rata-Rata Pemesanan data-1:', average_data1)\n",
    "print('Volume Rata-Rata Pemesanan data-2:', average_data2)\n",
    "print('Volume Rata-Rata Pemesanan data-3:', average_data3)"
   ]
  },
  {
   "cell_type": "markdown",
   "metadata": {},
   "source": [
    "**Kesimpulan Sementara**\n",
    "\n",
    "Adabeberapa kesimpulan yang didapat, diantaranya:\n",
    "1. Volume pemesanan minimum yang diperlukan untuk menghindari kerugian = 22.22 unit barel.\n",
    "2. Volume rata-rata pemesanan di setiap wilayah:\n",
    "    - data-1: 92.55 unit\n",
    "    - data-2: 69.28 unit\n",
    "    - data-3: 95.10 unit\n",
    "3. Dari ketiga data yang ada, tidak ada wilayah yang memiliki volume pemesanan dibawah volume minimum"
   ]
  },
  {
   "cell_type": "markdown",
   "metadata": {},
   "source": [
    "## Tahap-5. Menghitung Laba Menggunakan Sebuah Fungsi "
   ]
  },
  {
   "cell_type": "markdown",
   "metadata": {},
   "source": [
    "Sebelum membuat sebuah fungsi untuk menghitung laba, mari cari 200 sumur dengan nilai prediksi tertinggi dari masing-masing 3 wilayah"
   ]
  },
  {
   "cell_type": "code",
   "execution_count": 47,
   "metadata": {},
   "outputs": [],
   "source": [
    "wells_selected1 = results_data1.nlargest(200, 'predictions')['valid_target'].index\n",
    "wells_selected2 = results_data2.nlargest(200, 'predictions')['valid_target'].index\n",
    "wells_selected3 = results_data3.nlargest(200, 'predictions')['valid_target'].index"
   ]
  },
  {
   "cell_type": "code",
   "execution_count": 48,
   "metadata": {},
   "outputs": [
    {
     "name": "stdout",
     "output_type": "stream",
     "text": [
      "Int64Index([93073, 78948, 95537, 74946, 95898, 66543, 25156, 81980, 10355,\n",
      "            49362,\n",
      "            ...\n",
      "            19154,  8459, 14828, 76356, 56839, 30211, 97484, 84185, 70880,\n",
      "            77851],\n",
      "           dtype='int64', length=200)\n",
      "Int64Index([55165, 42738, 19483, 14041, 33785, 62413, 60464, 42432, 42661,\n",
      "            54566,\n",
      "            ...\n",
      "            64485, 69654, 30791, 14077, 30192, 86344, 24064, 42635,  1573,\n",
      "            35636],\n",
      "           dtype='int64', length=200)\n",
      "Int64Index([ 6647, 98619, 29787, 64380, 17415, 53151, 12544, 29246, 89554,\n",
      "             8317,\n",
      "            ...\n",
      "            88073, 92551, 16153, 32762, 68648,  7969,  7298, 80451, 34854,\n",
      "            42856],\n",
      "           dtype='int64', length=200)\n"
     ]
    }
   ],
   "source": [
    "print(wells_selected1)\n",
    "print(wells_selected2)\n",
    "print(wells_selected3)"
   ]
  },
  {
   "cell_type": "markdown",
   "metadata": {},
   "source": [
    "Variabel wells_selected menyimpan 200 sumur dengan prediksi tertinggi. Selanjutnya mari cari tahu volume target dari ke 200 sumur yang ada."
   ]
  },
  {
   "cell_type": "code",
   "execution_count": 49,
   "metadata": {},
   "outputs": [],
   "source": [
    "target_volume1 = results_data1.loc[wells_selected1]['predictions'].sum()\n",
    "target_volume2 = results_data2.loc[wells_selected2]['predictions'].sum()\n",
    "target_volume3 = results_data3.loc[wells_selected3]['predictions'].sum()"
   ]
  },
  {
   "cell_type": "code",
   "execution_count": 50,
   "metadata": {},
   "outputs": [
    {
     "name": "stdout",
     "output_type": "stream",
     "text": [
      "Target Volume Pemesanan data-1: 31034.787805093576\n",
      "Target Volume Pemesanan data-2: 27755.76198279395\n",
      "Target Volume Pemesanan data-3: 29943.443110391767\n"
     ]
    }
   ],
   "source": [
    "print('Target Volume Pemesanan data-1:', target_volume1)\n",
    "print('Target Volume Pemesanan data-2:', target_volume2)\n",
    "print('Target Volume Pemesanan data-3:', target_volume3)"
   ]
  },
  {
   "cell_type": "markdown",
   "metadata": {},
   "source": [
    "**Kesimpulan Sementara**\n",
    "\n",
    "Berdasarkan prediksi model, data yang memiliki target volume pemesanan tertinggi adalah wilayah yang beradap pada data-1 yaitu sebesar 31034.787805093576"
   ]
  },
  {
   "cell_type": "markdown",
   "metadata": {},
   "source": [
    "Untuk mempermudah mencari laba dari 200 sumur yang ada, mari buat sebuah fungsi untuk mempermudah pengerjaan."
   ]
  },
  {
   "cell_type": "code",
   "execution_count": 51,
   "metadata": {},
   "outputs": [],
   "source": [
    "def calculate_profit(wells, predictions):\n",
    "    selected_predictions = predictions.loc[wells]\n",
    "    total_volume = selected_predictions.sum()\n",
    "    total_profit = total_volume * per_barel\n",
    "    return total_profit"
   ]
  },
  {
   "cell_type": "code",
   "execution_count": 52,
   "metadata": {},
   "outputs": [],
   "source": [
    "profit_data1 = calculate_profit(wells_selected1, results_data1['predictions'])\n",
    "profit_data2 = calculate_profit(wells_selected2, results_data2['predictions'])\n",
    "profit_data3 = calculate_profit(wells_selected3, results_data3['predictions'])"
   ]
  },
  {
   "cell_type": "code",
   "execution_count": 53,
   "metadata": {},
   "outputs": [
    {
     "name": "stdout",
     "output_type": "stream",
     "text": [
      "Profit yang Didapat:\n",
      "Data-1: 139656545.12292108\n",
      "Data-2: 124900928.92257278\n",
      "Data-3: 134745493.99676296\n"
     ]
    }
   ],
   "source": [
    "print('Profit yang Didapat:')\n",
    "print('Data-1:', profit_data1)\n",
    "print('Data-2:', profit_data2)\n",
    "print('Data-3:', profit_data3)"
   ]
  },
  {
   "cell_type": "markdown",
   "metadata": {},
   "source": [
    "**Kesimpulan Sementara**\n",
    "\n",
    "Ada beberapa kesimpulan di tahap ini, diantaranya:\n",
    "1. Keuntungan yang didapat:\n",
    "    - Data-1: 139,656,545.12\n",
    "    - Data-2: 124,900,928.92\n",
    "    - Data-3: 134,745,493.99\n",
    "2. Data dengan wilayah target volume tertinggi yaitu data-1  \n",
    "3. Data dengan wilayah target volume tertinggi yaitu data-2 \n",
    "4. Berdasarkan prediksi model dan target volume pemesanan tertinggi, wilayah yang dipilih untuk investasi adalah wilayah yang berada pada data-1 yang memberikan keuntungan yang lebih tinggi dibandingkan dengan wilayah lainnya."
   ]
  },
  {
   "cell_type": "markdown",
   "metadata": {},
   "source": [
    "## Tahap-6. Hitung Risiko dan Keuntungan untuk Setiap Wilayah"
   ]
  },
  {
   "cell_type": "markdown",
   "metadata": {},
   "source": [
    "Untuk tahap ini teknik yang akan digunakan adalah teknik bootstraping dengan 1,000 sampel untuk menemukan distribusi profit."
   ]
  },
  {
   "cell_type": "code",
   "execution_count": 54,
   "metadata": {},
   "outputs": [],
   "source": [
    "bootstrap_size = 1000\n",
    "\n",
    "\n",
    "def calculate_bootstrapped_profit(predictions):\n",
    "    bootstrapped_profits = []\n",
    "    for i in range(bootstrap_size):\n",
    "        sample_predictions = predictions.sample(frac=1, replace=True)\n",
    "        total_volume = sample_predictions.sum()\n",
    "        total_profit = total_volume * per_barel\n",
    "        bootstrapped_profits.append(total_profit)\n",
    "    return bootstrapped_profits"
   ]
  },
  {
   "cell_type": "code",
   "execution_count": 55,
   "metadata": {},
   "outputs": [],
   "source": [
    "# Bootstrapped profit untuk setiap wilayah\n",
    "bootstrapped_profits_data1 = calculate_bootstrapped_profit(results_data1['predictions'])\n",
    "bootstrapped_profits_data2 = calculate_bootstrapped_profit(results_data2['predictions'])\n",
    "bootstrapped_profits_data3 = calculate_bootstrapped_profit(results_data3['predictions'])"
   ]
  },
  {
   "cell_type": "markdown",
   "metadata": {},
   "source": [
    "**Temukan Rata-Rata Profit, Interval Kepercayaan 95%, dan Risiko Kerugian**"
   ]
  },
  {
   "cell_type": "code",
   "execution_count": 56,
   "metadata": {},
   "outputs": [],
   "source": [
    "def calculate_confidence_interval_and_risk(profits):\n",
    "    mean_profit = np.mean(profits)\n",
    "    confidence_interval = np.percentile(profits, [2.5, 97.5])\n",
    "    risk_of_loss = np.mean(np.array(profits) < 0) * 100\n",
    "    return mean_profit, confidence_interval, risk_of_loss"
   ]
  },
  {
   "cell_type": "code",
   "execution_count": 57,
   "metadata": {},
   "outputs": [],
   "source": [
    "mean_profit_data1, confidence_interval_data1, risk_of_loss_data1 = calculate_confidence_interval_and_risk(bootstrapped_profits_data1)\n",
    "mean_profit_data2, confidence_interval_data2, risk_of_loss_data2 = calculate_confidence_interval_and_risk(bootstrapped_profits_data2)\n",
    "mean_profit_data3, confidence_interval_data3, risk_of_loss_data3 = calculate_confidence_interval_and_risk(bootstrapped_profits_data3)"
   ]
  },
  {
   "cell_type": "code",
   "execution_count": 58,
   "metadata": {},
   "outputs": [
    {
     "name": "stdout",
     "output_type": "stream",
     "text": [
      "Hasil Perhitungan:\n",
      "\n",
      "Analisis untuk data-1\n",
      "Rata-rata Profit: 10411854993.631897\n",
      "Interval Kepercayaan 95%: [1.03780799e+10 1.04428100e+10]\n",
      "Risiko Kerugian (%): 0.0\n",
      "____________________________________________\n",
      "Analisis untuk data-2\n",
      "Rata-rata Profit: 7791830434.947635\n",
      "Interval Kepercayaan 95%: [7.72585117e+09 7.85380134e+09]\n",
      "Risiko Kerugian (%): 0.0\n",
      "____________________________________________\n",
      "Analisis untuk data-3\n",
      "Rata-rata Profit: 10698314937.10365\n",
      "Interval Kepercayaan 95%: [1.06694856e+10 1.07270649e+10]\n",
      "Risiko Kerugian (%): 0.0\n"
     ]
    }
   ],
   "source": [
    "# Tampilkan hasil\n",
    "print('Hasil Perhitungan:')\n",
    "print('\\nAnalisis untuk data-1')\n",
    "print('Rata-rata Profit:', mean_profit_data1)\n",
    "print('Interval Kepercayaan 95%:', confidence_interval_data1)\n",
    "print('Risiko Kerugian (%):', risk_of_loss_data1)\n",
    "print('____________________________________________')\n",
    "print('Analisis untuk data-2')\n",
    "print('Rata-rata Profit:', mean_profit_data2)\n",
    "print('Interval Kepercayaan 95%:', confidence_interval_data2)\n",
    "print('Risiko Kerugian (%):', risk_of_loss_data2)\n",
    "print('____________________________________________')\n",
    "print('Analisis untuk data-3')\n",
    "print('Rata-rata Profit:', mean_profit_data3)\n",
    "print('Interval Kepercayaan 95%:', confidence_interval_data3)\n",
    "print('Risiko Kerugian (%):', risk_of_loss_data3)\n"
   ]
  },
  {
   "cell_type": "markdown",
   "metadata": {},
   "source": [
    "**Sarankan sebuah wilayah yang cocok untuk pengembangan sumur minyak**"
   ]
  },
  {
   "cell_type": "code",
   "execution_count": 59,
   "metadata": {},
   "outputs": [
    {
     "name": "stdout",
     "output_type": "stream",
     "text": [
      "\n",
      "Rekomendasi Akhir:\n",
      "data3\n"
     ]
    }
   ],
   "source": [
    "if risk_of_loss_data1 < 2.5 and mean_profit_data1 > mean_profit_data2 and mean_profit_data1 > mean_profit_data3:\n",
    "    final_recommendation = 'data1'\n",
    "elif risk_of_loss_data2 < 2.5 and mean_profit_data2 > mean_profit_data1 and mean_profit_data2 > mean_profit_data3:\n",
    "    final_recommendation = 'data2'\n",
    "elif risk_of_loss_data3 < 2.5 and mean_profit_data3 > mean_profit_data1 and mean_profit_data3 > mean_profit_data2:\n",
    "    final_recommendation = 'data3'\n",
    "else:\n",
    "    final_recommendation = 'None Recommendations'\n",
    "\n",
    "# Tampilkan rekomendasi akhir\n",
    "print('\\nRekomendasi Akhir:')\n",
    "print(final_recommendation)"
   ]
  },
  {
   "cell_type": "markdown",
   "metadata": {},
   "source": [
    "**Kesimpulan Sementara** \n",
    "Berdasarkan analisis risiko dan keuntungan dengan menggunakan teknik bootstrapping, berikut adalah hasilnya:\n",
    "\n",
    "1. data1 = geo_data_0:\n",
    "    - Rata-rata Keuntungan: 10,411,961,258.29\n",
    "    - Interval Kepercayaan 95%: [10,378,896,700, 10,444,180,400]\n",
    "    - Risiko Kerugian (%): 0.0\n",
    "2. data2 = geo_data_1:\n",
    "    - Rata-rata Keuntungan: 7,792,828,588.39\n",
    "    - Interval Kepercayaan 95%: [7,729,274,710, 7,857,358,230]\n",
    "    - Risiko Kerugian (%): 0.0\n",
    "3. data3 = geo_data_2:\n",
    "    - Rata-rata Keuntungan: 10,698,222,816.97\n",
    "    - Interval Kepercayaan 95%: [10,669,144,600, 10,726,387,800]\n",
    "    - Risiko Kerugian (%): 0.0\n",
    "4. Rekomendasi akhir berdasarkan analisis risiko dan keuntungan adalah data3 atau geo_data_2. Walaupun geo_data_0 memiliki rata-rata keuntungan yang tinggi, namun geo_data_2 juga memiliki kinerja yang baik dan dipilih karena menghasilkan keuntungan yang tinggi dengan risiko kerugian yang dimiliki rendah."
   ]
  },
  {
   "cell_type": "markdown",
   "metadata": {},
   "source": [
    "## Tahap-7. Kesimpulan Umum"
   ]
  },
  {
   "cell_type": "markdown",
   "metadata": {},
   "source": [
    "Dari analisi yang telah dilakukan, kesimpulan yang bisa diambila adalah sebagai berikut:\n",
    "\n",
    "1. Ketiga dataset tidak memiliki missing value.\n",
    "2. Ketiga dataset tidak ada duplikasi data pada setiap wilayah.\n",
    "3. data2 atau Geo_data_1 memiliki kinerja model yang paling baik dengan nilai RMSE yang rendah. Hal ini menunjukkan bawwa pediksi volume pemesanan cenderung lebih akurat.\n",
    "4. Volume pemesanan minimum yang diperlukan untuk menghindari kerugian = 22.22 unit barel.\n",
    "5. Jumlah rata-rata pemesanan di setiap wilayah:\n",
    "    - data1/geo_data_0: 92.55 unit\n",
    "    - data2/geo_data_1: 69.28 unit\n",
    "    - data3/geo_data_2: 95.10 unit\n",
    "6. Wilayah target volume yang didapat:\n",
    "    - Data-1: 139,656,545.12\n",
    "    - Data-2: 124,900,928.92\n",
    "    - Data-3: 134,745,493.99\n",
    "7. Berdasarkan prediksi model dan target volume pemesanan tertinggi, wilayah yang dipilih untuk investasi adalah wilayah yang berada pada data-1 / geo_data_0 yang memberikan keuntungan yang lebih tinggi dibandingkan dengan wilayah lainnya.\n",
    "8. Berdasarkan analisis risiko dan keuntungan dengan menggunakan teknik bootstrapping, hasilnya adalah sebagai berikut:\n",
    "    - data1/geo_data_0:\n",
    "        - Rata-rata Keuntungan: 10,411,961,258.29\n",
    "        - Interval Kepercayaan 95%: [10,378,896,700, 10,444,180,400]\n",
    "        - Risiko Kerugian (%): 0.0\n",
    "    - data2/geo_data_1:\n",
    "        - Rata-rata Keuntungan: 7,792,828,588.39\n",
    "        - Interval Kepercayaan 95%: [7,729,274,710, 7,857,358,230]\n",
    "        - Risiko Kerugian (%): 0.0\n",
    "    - data3/geo_data_2:\n",
    "        - Rata-rata Keuntungan: 10,698,222,816.97\n",
    "        - Interval Kepercayaan 95%: [10,669,144,600, 10,726,387,800]\n",
    "        - Risiko Kerugian (%): 0.0\n",
    "9. Rekomendasi akhir berdasarkan analisis risiko dan keuntungan adalah data3/geo_data_2. Walaupun data1/geo_data_0 memiliki rata-rata keuntungan yang tinggi, namun data3/geo_data_2 juga memiliki kinerja yang baik dan dipilih karena menghasilkan keuntungan yang tinggi dengan risiko kerugian yang dimiliki rendah."
   ]
  },
  {
   "cell_type": "code",
   "execution_count": null,
   "metadata": {},
   "outputs": [],
   "source": []
  }
 ],
 "metadata": {
  "kernelspec": {
   "display_name": "Python 3 (ipykernel)",
   "language": "python",
   "name": "python3"
  },
  "language_info": {
   "codemirror_mode": {
    "name": "ipython",
    "version": 3
   },
   "file_extension": ".py",
   "mimetype": "text/x-python",
   "name": "python",
   "nbconvert_exporter": "python",
   "pygments_lexer": "ipython3",
   "version": "3.11.4"
  },
  "toc": {
   "base_numbering": 1,
   "nav_menu": {},
   "number_sections": true,
   "sideBar": true,
   "skip_h1_title": true,
   "title_cell": "Table of Contents",
   "title_sidebar": "Contents",
   "toc_cell": false,
   "toc_position": {
    "height": "calc(100% - 180px)",
    "left": "10px",
    "top": "150px",
    "width": "235.6px"
   },
   "toc_section_display": true,
   "toc_window_display": false
  }
 },
 "nbformat": 4,
 "nbformat_minor": 2
}
